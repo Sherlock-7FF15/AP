{
  "cells": [
    {
      "cell_type": "code",
      "execution_count": null,
      "metadata": {
        "id": "CLgU5ebXASdc"
      },
      "outputs": [],
      "source": [
        "array = [5, 3, 1, 8, 2, 21, 13]"
      ]
    },
    {
      "cell_type": "code",
      "execution_count": null,
      "metadata": {
        "id": "trlptr0EAfPI"
      },
      "outputs": [],
      "source": [
        "import random as rd"
      ]
    },
    {
      "cell_type": "code",
      "execution_count": null,
      "metadata": {
        "id": "ZpXO2lOPGLCQ"
      },
      "outputs": [],
      "source": [
        "def partition(arr, left, right):\n",
        "  less = left-1 #小于数的右边界\n",
        "  more = right #大于数的左边界\n",
        "  while left < more:\n",
        "    if arr[left] < arr[right]:\n",
        "      less = less+1\n",
        "      temp = arr[left]\n",
        "      arr[left] = arr[less]\n",
        "      arr[less] = temp\n",
        "      left = left+1\n",
        "    if arr[left] > arr[right]:\n",
        "      more = more-1\n",
        "      temp = arr[left]\n",
        "      arr[left] = arr[more]\n",
        "      arr[more] = temp\n",
        "    if arr[left] == arr[right]:\n",
        "      left = left+1\n",
        "  # 交换最后一个数和大于区域的第一个数\n",
        "  temp = arr[right]\n",
        "  arr[right] = arr[more]\n",
        "  arr[more] = temp\n",
        "  return [less+1, more]"
      ]
    },
    {
      "cell_type": "code",
      "execution_count": null,
      "metadata": {
        "id": "qKX1BbZeAkR_"
      },
      "outputs": [],
      "source": [
        "def quickSort(arr, left, right):\n",
        "  if left < right:\n",
        "    # 交换最后一个数和随机数\n",
        "    # print('前', array)\n",
        "    # seed = rd.randint(left+1, right)\n",
        "    # temp = arr[seed]\n",
        "    # arr[seed] = arr[right]\n",
        "    # arr[right] = temp\n",
        "    equalIndex = partition(arr, left, right)\n",
        "    quickSort(arr, left, equalIndex[0]-1)\n",
        "    quickSort(arr, equalIndex[1]+1, right)\n"
      ]
    },
    {
      "cell_type": "code",
      "execution_count": null,
      "metadata": {
        "id": "N7ABOA0RcOcY"
      },
      "outputs": [],
      "source": [
        "quickSort(array, 0, len(array)-1)"
      ]
    },
    {
      "cell_type": "code",
      "execution_count": null,
      "metadata": {
        "colab": {
          "base_uri": "https://localhost:8080/"
        },
        "id": "e2L7D-sEcndv",
        "outputId": "e543a3b5-24ab-434b-86bb-2777ea2c9078"
      },
      "outputs": [
        {
          "name": "stdout",
          "output_type": "stream",
          "text": [
            "[1, 2, 3, 5, 8, 13, 21]\n"
          ]
        }
      ],
      "source": [
        "print(array)"
      ]
    },
    {
      "cell_type": "code",
      "execution_count": null,
      "metadata": {
        "id": "XSh60jh9EIKn"
      },
      "outputs": [],
      "source": [
        "def swap(arr, a, b):\n",
        "  temp = arr[a]\n",
        "  arr[a] = arr[b]\n",
        "  arr[b] = temp"
      ]
    },
    {
      "cell_type": "code",
      "execution_count": null,
      "metadata": {
        "id": "pRnYoeyNTjyO"
      },
      "outputs": [],
      "source": [
        "def heapInsert(arr, index):\n",
        "  #判断某个数是否可以向上移动\n",
        "  while arr[index] > arr[int((index-1)/2)]:\n",
        "    swap(arr, index, int((index-1)/2))\n",
        "    index = int((index-1)/2)\n",
        "    "
      ]
    },
    {
      "cell_type": "code",
      "execution_count": null,
      "metadata": {
        "id": "WUnaGAaAFhhI"
      },
      "outputs": [],
      "source": [
        "def heapify(arr, index, heapSize): \n",
        "  #判断某个位置的值是否为大根堆,判断某个数是否可以向下移动\n",
        "  left = 2*index+1 #构建左孩子\n",
        "  while left < heapSize-1:\n",
        "    if arr[left] < arr[left+1]:\n",
        "      largest = left+1\n",
        "    else:\n",
        "      largest = left\n",
        "    if arr[index] > arr[largest]:\n",
        "      largest = index\n",
        "    if largest == index:\n",
        "      break\n",
        "    swap(arr, largest, index)\n",
        "    index = largest\n",
        "    left = 2*index+1"
      ]
    },
    {
      "cell_type": "code",
      "execution_count": null,
      "metadata": {
        "id": "sEdQFrw3TKza"
      },
      "outputs": [],
      "source": [
        "a=[0,3,2,1,6]\n",
        "heapify(a, 0, 5)"
      ]
    },
    {
      "cell_type": "code",
      "execution_count": null,
      "metadata": {
        "colab": {
          "base_uri": "https://localhost:8080/"
        },
        "id": "EBYE87oyTjC-",
        "outputId": "d506b759-01ae-458c-a97b-0bc84b787ab1"
      },
      "outputs": [
        {
          "name": "stdout",
          "output_type": "stream",
          "text": [
            "[3, 6, 2, 1, 0]\n"
          ]
        }
      ],
      "source": [
        "print(a)"
      ]
    },
    {
      "cell_type": "code",
      "execution_count": null,
      "metadata": {
        "id": "JUYlnPcrFlhJ"
      },
      "outputs": [],
      "source": [
        "a = [1, 2, 3, 5, 8, 13, 21]\n",
        "for i in range(len(a)):\n",
        "  heapInsert(a, i)"
      ]
    },
    {
      "cell_type": "code",
      "execution_count": null,
      "metadata": {
        "colab": {
          "base_uri": "https://localhost:8080/"
        },
        "id": "RlbQHWaVOdBu",
        "outputId": "927a9250-5f21-4638-d54a-ca7252450d06"
      },
      "outputs": [
        {
          "name": "stdout",
          "output_type": "stream",
          "text": [
            "[21, 5, 2, 1, 3, 13, 8]\n"
          ]
        }
      ],
      "source": [
        "swap(a, 2, 5)\n",
        "print(a)"
      ]
    },
    {
      "cell_type": "code",
      "execution_count": null,
      "metadata": {
        "id": "I8Cw7CqTQ7sY"
      },
      "outputs": [],
      "source": [
        "a = [1, 2, 3, 5, 8, 13, 21]"
      ]
    },
    {
      "cell_type": "code",
      "execution_count": null,
      "metadata": {
        "id": "Jh2NFcAeO151"
      },
      "outputs": [],
      "source": [
        "def heapSort(arr):\n",
        "  for i in range(len(arr)):\n",
        "    heapInsert(a, i)\n",
        "  heapSize = len(a)\n",
        "  heapSize = heapSize-1\n",
        "  swap(arr, 0, heapSize)\n",
        "  print(a)\n",
        "  while(heapSize > 0):\n",
        "    heapify(arr, 0, heapSize)\n",
        "    print(arr)\n",
        "    heapSize = heapSize-1\n",
        "    swap(arr, 0, heapSize)\n",
        "    print(a)"
      ]
    },
    {
      "cell_type": "code",
      "execution_count": null,
      "metadata": {
        "colab": {
          "base_uri": "https://localhost:8080/"
        },
        "id": "RoECZ-pDPBQb",
        "outputId": "f69f11fa-64a9-4be2-99cb-6a3ca455b8c6"
      },
      "outputs": [
        {
          "name": "stdout",
          "output_type": "stream",
          "text": [
            "[8, 5, 13, 1, 3, 2, 21]\n",
            "[13, 5, 8, 1, 3, 2, 21]\n",
            "[2, 5, 8, 1, 3, 13, 21]\n",
            "[8, 5, 2, 1, 3, 13, 21]\n",
            "[3, 5, 2, 1, 8, 13, 21]\n",
            "[5, 3, 2, 1, 8, 13, 21]\n",
            "[1, 3, 2, 5, 8, 13, 21]\n",
            "[3, 1, 2, 5, 8, 13, 21]\n",
            "[2, 1, 3, 5, 8, 13, 21]\n",
            "[2, 1, 3, 5, 8, 13, 21]\n",
            "[1, 2, 3, 5, 8, 13, 21]\n",
            "[1, 2, 3, 5, 8, 13, 21]\n",
            "[1, 2, 3, 5, 8, 13, 21]\n",
            "[1, 2, 3, 5, 8, 13, 21]\n"
          ]
        }
      ],
      "source": [
        "heapSort(a)\n",
        "print(a)"
      ]
    },
    {
      "cell_type": "code",
      "execution_count": null,
      "metadata": {
        "id": "XAW6oS-0Y2vF"
      },
      "outputs": [],
      "source": [
        "i = len(a)-1\n",
        "while i > 0:\n",
        "  heapify(a, i, len(a))\n",
        "  i = i-1"
      ]
    },
    {
      "cell_type": "code",
      "execution_count": null,
      "metadata": {
        "colab": {
          "base_uri": "https://localhost:8080/"
        },
        "id": "jNLQYH02ZMSt",
        "outputId": "1c784f04-1ac9-4d40-9aa7-8c9044cc5168"
      },
      "outputs": [
        {
          "name": "stdout",
          "output_type": "stream",
          "text": [
            "[1, 8, 21, 5, 2, 13, 3]\n"
          ]
        }
      ],
      "source": [
        "print(a)"
      ]
    },
    {
      "cell_type": "code",
      "execution_count": null,
      "metadata": {
        "id": "rTaNlostOKaQ"
      },
      "outputs": [],
      "source": [
        "# 类中节点的定义\n",
        "class Node():\n",
        "  def __init__(self, item):\n",
        "    self.item = item\n",
        "    self.next = None"
      ]
    },
    {
      "cell_type": "code",
      "execution_count": null,
      "metadata": {
        "id": "xVBRnayTO7BN"
      },
      "outputs": [],
      "source": [
        "# 带头节点的单链表\n",
        "# 注意！头节点内存放着第一个结点的地址，即head.head = 第一个结点\n",
        "class singleLinkedlist():\n",
        "  def __init__(self):\n",
        "    self.head = None\n",
        "  # 向链表尾部添加元素\n",
        "  def append(self, item):\n",
        "    node = Node(item)\n",
        "    if self.head == None:\n",
        "      self.head = node\n",
        "    else:\n",
        "      cur = self.head\n",
        "      while cur.next != None:\n",
        "        cur = cur.next\n",
        "      cur.next = node\n",
        "  # 在链表中删除一个元素\n",
        "  def delete(self, item):\n",
        "    cur = self.head\n",
        "    pre = None\n",
        "    # 如果链表为空，则返回true\n",
        "    if self.head == None:\n",
        "      return True\n",
        "    while cur.next != None:\n",
        "      if cur.item == item:\n",
        "        if pre == None:\n",
        "          self.head = cur.next\n",
        "        else:\n",
        "          self.next = cur.next\n",
        "      else:\n",
        "        pre = cur\n",
        "        cur = cur.next\n",
        "  # 在头节点前插入元素\n",
        "  def add(self, item):\n",
        "    node = Node(item)\n",
        "    node.next = self.head\n",
        "    self.head = node\n",
        "  # 返回当前链表长度\n",
        "  def length(self):\n",
        "    i = 0\n",
        "    cur = self.head\n",
        "    if cur == None:\n",
        "      return 0\n",
        "    while cur != None:\n",
        "      i = i+1\n",
        "      cur = cur.next\n",
        "    return i\n",
        "  # 遍历链表\n",
        "  def items(self):\n",
        "    temp = []\n",
        "    cur = self.head\n",
        "    if cur == None:\n",
        "      print('none')\n",
        "      return None\n",
        "    for i in range(self.length()):\n",
        "      temp.append(cur.item)\n",
        "      cur = cur.next\n",
        "    print(temp)\n",
        "    return(temp)\n",
        "  # 在某个地方插入一个结点\n",
        "  def insert(self, n, item):\n",
        "    i = 0\n",
        "    if n <= 0:\n",
        "      self.add(item)\n",
        "      return\n",
        "    if n == self.length():\n",
        "      self.append(item)\n",
        "      return\n",
        "    cur = self.head\n",
        "    node = Node(item)\n",
        "    # for i in range(n-1):\n",
        "    #   cur = cur.next\n",
        "    while i < n-1:\n",
        "      cur = cur.next\n",
        "      i = i+1\n",
        "    node.next = cur.next\n",
        "    cur.next = node\n",
        "  def find(self, item):\n",
        "    return item in self.items()"
      ]
    },
    {
      "cell_type": "code",
      "execution_count": null,
      "metadata": {
        "id": "2l-p5bfDj-3U"
      },
      "outputs": [],
      "source": [
        "list = singleLinkedlist()\n",
        "for i in range(10):\n",
        "  list.append(i)"
      ]
    },
    {
      "cell_type": "code",
      "source": [
        "list.items()"
      ],
      "metadata": {
        "colab": {
          "base_uri": "https://localhost:8080/"
        },
        "id": "aldaMp-WfW0m",
        "outputId": "7103d758-9f12-4ec0-9b68-a937acd1a65c"
      },
      "execution_count": null,
      "outputs": [
        {
          "output_type": "stream",
          "name": "stdout",
          "text": [
            "[0, 1, 2, 3, 4, 5, 6, 7, 8, 9]\n"
          ]
        },
        {
          "output_type": "execute_result",
          "data": {
            "text/plain": [
              "[0, 1, 2, 3, 4, 5, 6, 7, 8, 9]"
            ]
          },
          "metadata": {},
          "execution_count": 83
        }
      ]
    },
    {
      "cell_type": "code",
      "source": [
        "fa = list.head"
      ],
      "metadata": {
        "id": "R132hhladz1L"
      },
      "execution_count": null,
      "outputs": []
    },
    {
      "cell_type": "code",
      "source": [
        "fa = fa.next\n",
        "list.items()"
      ],
      "metadata": {
        "colab": {
          "base_uri": "https://localhost:8080/"
        },
        "id": "nc36Jj0ZxwXZ",
        "outputId": "e23d4605-fe09-4737-f148-c5f28e399652"
      },
      "execution_count": null,
      "outputs": [
        {
          "output_type": "stream",
          "name": "stdout",
          "text": [
            "[0, 1, 2, 3, 4, 5, 6, 7, 8, 9]\n"
          ]
        },
        {
          "output_type": "execute_result",
          "data": {
            "text/plain": [
              "[0, 1, 2, 3, 4, 5, 6, 7, 8, 9]"
            ]
          },
          "metadata": {},
          "execution_count": 96
        }
      ]
    },
    {
      "cell_type": "code",
      "source": [
        "fa = fa.next\n",
        "list.items()"
      ],
      "metadata": {
        "colab": {
          "base_uri": "https://localhost:8080/"
        },
        "id": "1ObsYSkXx1Kx",
        "outputId": "830e40b3-bdfe-4cb9-8e86-f46218de2cf4"
      },
      "execution_count": null,
      "outputs": [
        {
          "output_type": "stream",
          "name": "stdout",
          "text": [
            "[0, 1, 2, 3, 4, 5, 6, 7, 8, 9]\n"
          ]
        },
        {
          "output_type": "execute_result",
          "data": {
            "text/plain": [
              "[0, 1, 2, 3, 4, 5, 6, 7, 8, 9]"
            ]
          },
          "metadata": {},
          "execution_count": 98
        }
      ]
    },
    {
      "cell_type": "code",
      "source": [
        "temp = list.head"
      ],
      "metadata": {
        "id": "X8HKtWwrd0_d"
      },
      "execution_count": null,
      "outputs": []
    },
    {
      "cell_type": "code",
      "source": [
        "temp.next = a.head"
      ],
      "metadata": {
        "id": "DFgGMVnteFXJ"
      },
      "execution_count": null,
      "outputs": []
    },
    {
      "cell_type": "code",
      "source": [
        "list.items()"
      ],
      "metadata": {
        "colab": {
          "base_uri": "https://localhost:8080/"
        },
        "id": "BErPp6iFeTkg",
        "outputId": "4875b039-aef6-45dd-ce9a-d67e92d4e6ef"
      },
      "execution_count": null,
      "outputs": [
        {
          "output_type": "stream",
          "name": "stdout",
          "text": [
            "[0]\n"
          ]
        },
        {
          "output_type": "execute_result",
          "data": {
            "text/plain": [
              "[0]"
            ]
          },
          "metadata": {},
          "execution_count": 77
        }
      ]
    },
    {
      "cell_type": "code",
      "source": [
        "a = 1"
      ],
      "metadata": {
        "id": "r3Ld_vQIflOf"
      },
      "execution_count": null,
      "outputs": []
    },
    {
      "cell_type": "code",
      "source": [
        "b = a"
      ],
      "metadata": {
        "id": "Hmmx9GdYfn8U"
      },
      "execution_count": null,
      "outputs": []
    },
    {
      "cell_type": "code",
      "source": [
        "b = 2"
      ],
      "metadata": {
        "id": "ZcSis_r5fqFu"
      },
      "execution_count": null,
      "outputs": []
    },
    {
      "cell_type": "code",
      "source": [
        "print(a)"
      ],
      "metadata": {
        "colab": {
          "base_uri": "https://localhost:8080/"
        },
        "id": "VYwsoNlufrwc",
        "outputId": "734fbce2-1b2f-4173-aab0-a44e342eabb6"
      },
      "execution_count": null,
      "outputs": [
        {
          "output_type": "stream",
          "name": "stdout",
          "text": [
            "1\n"
          ]
        }
      ]
    },
    {
      "cell_type": "code",
      "source": [
        "list.items()"
      ],
      "metadata": {
        "colab": {
          "base_uri": "https://localhost:8080/"
        },
        "id": "QVzj1HWwXrcb",
        "outputId": "f5b0f76b-d885-43d1-c384-09c81b9f96f6"
      },
      "execution_count": null,
      "outputs": [
        {
          "output_type": "stream",
          "name": "stdout",
          "text": [
            "none\n"
          ]
        }
      ]
    },
    {
      "cell_type": "code",
      "source": [
        "rever = singleLinkedlist()\n",
        "while list.head is not None:\n",
        "  list.items()\n",
        "  temp = Node(None)\n",
        "  temp.item = list.head.item\n",
        "  temp.next = rever.head\n",
        "  rever.head = temp\n",
        "  rever.items()\n",
        "  list.head = list.head.next"
      ],
      "metadata": {
        "colab": {
          "base_uri": "https://localhost:8080/"
        },
        "id": "UeC_7C1iZJlE",
        "outputId": "097eba31-1059-4320-c2ad-1a0b7494fce6"
      },
      "execution_count": null,
      "outputs": [
        {
          "output_type": "stream",
          "name": "stdout",
          "text": [
            "[0, 1, 2, 3, 4, 5, 6, 7, 8, 9]\n",
            "[0]\n",
            "[1, 2, 3, 4, 5, 6, 7, 8, 9]\n",
            "[1, 0]\n",
            "[2, 3, 4, 5, 6, 7, 8, 9]\n",
            "[2, 1, 0]\n",
            "[3, 4, 5, 6, 7, 8, 9]\n",
            "[3, 2, 1, 0]\n",
            "[4, 5, 6, 7, 8, 9]\n",
            "[4, 3, 2, 1, 0]\n",
            "[5, 6, 7, 8, 9]\n",
            "[5, 4, 3, 2, 1, 0]\n",
            "[6, 7, 8, 9]\n",
            "[6, 5, 4, 3, 2, 1, 0]\n",
            "[7, 8, 9]\n",
            "[7, 6, 5, 4, 3, 2, 1, 0]\n",
            "[8, 9]\n",
            "[8, 7, 6, 5, 4, 3, 2, 1, 0]\n",
            "[9]\n",
            "[9, 8, 7, 6, 5, 4, 3, 2, 1, 0]\n"
          ]
        }
      ]
    },
    {
      "cell_type": "code",
      "source": [
        "rever.items()"
      ],
      "metadata": {
        "colab": {
          "base_uri": "https://localhost:8080/"
        },
        "id": "mRJgQSTqdj-o",
        "outputId": "4428780d-d95e-4d15-a666-f28439cc17fc"
      },
      "execution_count": null,
      "outputs": [
        {
          "output_type": "stream",
          "name": "stdout",
          "text": [
            "[9, 8, 7, 6, 5, 4, 3, 2, 1, 0]\n"
          ]
        },
        {
          "output_type": "execute_result",
          "data": {
            "text/plain": [
              "[9, 8, 7, 6, 5, 4, 3, 2, 1, 0]"
            ]
          },
          "metadata": {},
          "execution_count": 89
        }
      ]
    },
    {
      "cell_type": "code",
      "source": [
        "def reverseList(list):\n",
        "  rever = singleLinkedlist()\n",
        "  while list.head is not None:\n",
        "    list.items()\n",
        "    temp = Node(None)\n",
        "    temp.item = list.head.item\n",
        "    temp.next = rever.head\n",
        "    rever.head = temp\n",
        "    list.head = list.head.next\n",
        "  return rever"
      ],
      "metadata": {
        "id": "LqSiQuVIX6Ei"
      },
      "execution_count": null,
      "outputs": []
    },
    {
      "cell_type": "code",
      "source": [
        "head = reverseList(list)"
      ],
      "metadata": {
        "colab": {
          "base_uri": "https://localhost:8080/"
        },
        "id": "6anZHrIebpCg",
        "outputId": "4a073ca1-baa1-4359-c147-19ab14e7c0c5"
      },
      "execution_count": null,
      "outputs": [
        {
          "output_type": "stream",
          "name": "stdout",
          "text": [
            "[0, 1, 2, 3, 4, 5, 6, 7, 8, 9]\n",
            "[1, 2, 3, 4, 5, 6, 7, 8, 9]\n",
            "[2, 3, 4, 5, 6, 7, 8, 9]\n",
            "[3, 4, 5, 6, 7, 8, 9]\n",
            "[4, 5, 6, 7, 8, 9]\n",
            "[5, 6, 7, 8, 9]\n",
            "[6, 7, 8, 9]\n",
            "[7, 8, 9]\n",
            "[8, 9]\n",
            "[9]\n"
          ]
        }
      ]
    },
    {
      "cell_type": "code",
      "source": [
        "head.items()"
      ],
      "metadata": {
        "colab": {
          "base_uri": "https://localhost:8080/"
        },
        "id": "Pc0uY8s9b0lk",
        "outputId": "834ba021-3d53-4d8c-85a4-925d6545dba6"
      },
      "execution_count": null,
      "outputs": [
        {
          "output_type": "stream",
          "name": "stdout",
          "text": [
            "[9, 8, 7, 6, 5, 4, 3, 2, 1, 0]\n"
          ]
        },
        {
          "output_type": "execute_result",
          "data": {
            "text/plain": [
              "[9, 8, 7, 6, 5, 4, 3, 2, 1, 0]"
            ]
          },
          "metadata": {},
          "execution_count": 91
        }
      ]
    },
    {
      "cell_type": "code",
      "execution_count": null,
      "metadata": {
        "id": "ta56FPG0YfJl"
      },
      "outputs": [],
      "source": [
        "def reverse(head):\n",
        "  list = singleLinkedlist()\n",
        "  head = head.head\n",
        "  while head.next is not None:\n",
        "    tem = head\n",
        "    tem.next = list.head\n",
        "    list.head = tem\n",
        "    head = head.next"
      ]
    },
    {
      "cell_type": "code",
      "execution_count": null,
      "metadata": {
        "colab": {
          "background_save": true,
          "base_uri": "https://localhost:8080/",
          "height": 290
        },
        "id": "os7yt96mdhWG",
        "outputId": "7982f1b4-c2a6-4f1d-9e88-04018355ff91"
      },
      "outputs": [
        {
          "name": "stdout",
          "output_type": "stream",
          "text": [
            "None\n"
          ]
        }
      ],
      "source": [
        "print(list.head.next)"
      ]
    },
    {
      "cell_type": "code",
      "execution_count": null,
      "metadata": {
        "colab": {
          "base_uri": "https://localhost:8080/"
        },
        "id": "53zhXGNxwq91",
        "outputId": "158a0ce8-6cab-4faa-f980-3293e673fc5b"
      },
      "outputs": [
        {
          "name": "stdout",
          "output_type": "stream",
          "text": [
            "True\n"
          ]
        }
      ],
      "source": [
        "a = [0, 1, 2, 3, 4, 5, 6, 7, 8, 9]\n",
        "print(5 in a)"
      ]
    },
    {
      "cell_type": "code",
      "execution_count": null,
      "metadata": {
        "colab": {
          "base_uri": "https://localhost:8080/"
        },
        "id": "AkkWmFg4uaJa",
        "outputId": "c6646941-19ad-48e7-8d1d-13bccd779f75"
      },
      "outputs": [
        {
          "name": "stdout",
          "output_type": "stream",
          "text": [
            "0\n",
            "1\n",
            "2\n",
            "3\n"
          ]
        }
      ],
      "source": [
        "i = 0\n",
        "while i < 4:\n",
        "  print(i)\n",
        "  i = i+1"
      ]
    },
    {
      "cell_type": "code",
      "execution_count": null,
      "metadata": {
        "id": "Ae5NA32HZ-R8"
      },
      "outputs": [],
      "source": [
        "  a = [1,2,3,4,5]\n",
        "  b = [1,2,3,4]\n",
        "  c = [1,2,3]\n",
        "  d = [1,2]\n",
        "  e = [1]\n",
        "  f = []\n",
        "  g = [1,2,3,4,5,6]"
      ]
    },
    {
      "cell_type": "code",
      "execution_count": null,
      "metadata": {
        "id": "npzDY94NY3xX"
      },
      "outputs": [],
      "source": [
        "def fastSlowpoint(arr):\n",
        "  fast = 0\n",
        "  slow = 0\n",
        "  if len(arr) == 0:\n",
        "    print(fast,slow)\n",
        "    return\n",
        "  if len(arr)%2 == 0:\n",
        "    while fast < len(arr)-1:\n",
        "      if fast+2 > len(arr)-1:\n",
        "        fast = fast+1\n",
        "        print(fast,slow)\n",
        "        return\n",
        "      else:\n",
        "        fast = fast+2\n",
        "        slow = slow+1\n",
        "  else:\n",
        "    while fast < len(arr)-1:\n",
        "      if fast+2 > len(arr)-1:\n",
        "        print(fast, slow)\n",
        "        return\n",
        "      fast = fast+2\n",
        "      slow = slow+1\n",
        "  print(fast,slow)"
      ]
    },
    {
      "cell_type": "code",
      "execution_count": null,
      "metadata": {
        "colab": {
          "base_uri": "https://localhost:8080/"
        },
        "id": "0D1wcRzhaK63",
        "outputId": "ca5a37bd-b1be-4774-fb8e-905ea9fd448b"
      },
      "outputs": [
        {
          "name": "stdout",
          "output_type": "stream",
          "text": [
            "0 0\n"
          ]
        }
      ],
      "source": [
        "fastSlowpoint(e)"
      ]
    },
    {
      "cell_type": "code",
      "execution_count": null,
      "metadata": {
        "colab": {
          "base_uri": "https://localhost:8080/"
        },
        "id": "zoLNvgfoc72V",
        "outputId": "08d65319-5c36-4db4-8de5-024825c173eb"
      },
      "outputs": [
        {
          "name": "stdout",
          "output_type": "stream",
          "text": [
            "none\n"
          ]
        }
      ],
      "source": [
        "a = None\n",
        "if a == None:\n",
        "  print('none')"
      ]
    },
    {
      "cell_type": "code",
      "source": [
        "list.items()"
      ],
      "metadata": {
        "colab": {
          "base_uri": "https://localhost:8080/"
        },
        "id": "jJOpF5uVyW33",
        "outputId": "aebcee34-591c-4267-a732-f752f50dcce3"
      },
      "execution_count": null,
      "outputs": [
        {
          "output_type": "stream",
          "name": "stdout",
          "text": [
            "[0, 1, 2, 3, 4, 5, 6, 7, 8, 9]\n"
          ]
        },
        {
          "output_type": "execute_result",
          "data": {
            "text/plain": [
              "[0, 1, 2, 3, 4, 5, 6, 7, 8, 9]"
            ]
          },
          "metadata": {},
          "execution_count": 100
        }
      ]
    },
    {
      "cell_type": "code",
      "execution_count": null,
      "metadata": {
        "id": "rNr73t2Nn_lc"
      },
      "outputs": [],
      "source": [
        "# 回文结构 三指针\n",
        "def backList(list):\n",
        "  sl = list.head\n",
        "  fa = list.head\n",
        "  le = list.head\n",
        "  while fa.next is not None:\n",
        "    if fa.next.next is not None:\n",
        "      sl = sl.next\n",
        "      fa = fa.next.next\n",
        "    else:\n",
        "      fa = fa.next\n",
        "  fa = reverList(sl)\n",
        "  while fa.next is not None:\n",
        "    if fa.item == le.item:\n",
        "      fa = fa.next\n",
        "      le = le.next\n",
        "    else:\n",
        "      return False\n",
        "  return True\n",
        "\n",
        "def reverList(head):\n",
        "  next = None\n",
        "  pre = None\n",
        "  while head is not None:\n",
        "    next = head.next\n",
        "    head.next = pre\n",
        "    pre = head\n",
        "    head = next\n",
        "  return pre"
      ]
    },
    {
      "cell_type": "code",
      "source": [
        "list = singleLinkedlist()\n",
        "# for i in range(10):\n",
        "#   list.append(i)\n",
        "list.append(1)\n",
        "list.append(1)\n",
        "list.append(2)\n",
        "list.append(1)\n",
        "list.append(1)"
      ],
      "metadata": {
        "id": "FAmPXo0u2G7-"
      },
      "execution_count": null,
      "outputs": []
    },
    {
      "cell_type": "code",
      "source": [
        "list.items()"
      ],
      "metadata": {
        "colab": {
          "base_uri": "https://localhost:8080/"
        },
        "id": "TTG09CoK6eBD",
        "outputId": "65116b02-2ea7-4580-c4db-ba8d51837cec"
      },
      "execution_count": null,
      "outputs": [
        {
          "output_type": "stream",
          "name": "stdout",
          "text": [
            "[1, 1, 2, 1, 1]\n"
          ]
        },
        {
          "output_type": "execute_result",
          "data": {
            "text/plain": [
              "[1, 1, 2, 1, 1]"
            ]
          },
          "metadata": {},
          "execution_count": 136
        }
      ]
    },
    {
      "cell_type": "code",
      "source": [
        "a = backList(list)"
      ],
      "metadata": {
        "id": "Sw4OeIUJ1vYp"
      },
      "execution_count": null,
      "outputs": []
    },
    {
      "cell_type": "code",
      "source": [
        "print(a)"
      ],
      "metadata": {
        "colab": {
          "base_uri": "https://localhost:8080/"
        },
        "id": "_8yo5pKg6S6C",
        "outputId": "53029a6c-cb09-45d8-a952-997f831f6c2a"
      },
      "execution_count": null,
      "outputs": [
        {
          "output_type": "stream",
          "name": "stdout",
          "text": [
            "True\n"
          ]
        }
      ]
    },
    {
      "cell_type": "code",
      "source": [
        "while a.next is not None:\n",
        "  print(a.item)\n",
        "  a = a.next\n"
      ],
      "metadata": {
        "colab": {
          "base_uri": "https://localhost:8080/"
        },
        "id": "FXI7Ne3J1y1m",
        "outputId": "ded1a6ef-b65c-4adc-af4b-2b4b8f938403"
      },
      "execution_count": null,
      "outputs": [
        {
          "output_type": "stream",
          "name": "stdout",
          "text": [
            "9\n",
            "8\n",
            "7\n",
            "6\n",
            "5\n"
          ]
        }
      ]
    },
    {
      "cell_type": "code",
      "source": [
        "list.items()"
      ],
      "metadata": {
        "colab": {
          "base_uri": "https://localhost:8080/"
        },
        "id": "S5iYGMKs5mba",
        "outputId": "dee5201c-c3b7-4d2d-cd20-0a2ebd5a3ed9"
      },
      "execution_count": null,
      "outputs": [
        {
          "output_type": "stream",
          "name": "stdout",
          "text": [
            "[0, 1, 2, 3, 4]\n"
          ]
        },
        {
          "output_type": "execute_result",
          "data": {
            "text/plain": [
              "[0, 1, 2, 3, 4]"
            ]
          },
          "metadata": {},
          "execution_count": 130
        }
      ]
    },
    {
      "cell_type": "code",
      "source": [
        "import random as rd"
      ],
      "metadata": {
        "id": "RwcJ1rgdLo7o"
      },
      "execution_count": null,
      "outputs": []
    },
    {
      "cell_type": "code",
      "source": [
        "def swap(arr, a, b):\n",
        "  arr[a], arr[b] = arr[b], arr[a]\n",
        "def patition(arr, left, right):\n",
        "  less = left-1\n",
        "  more = right\n",
        "  while left < more:\n",
        "    if arr[left] < arr[right]:\n",
        "      less = less+1\n",
        "      swap(arr, less, left)\n",
        "      left = left+1\n",
        "      continue\n",
        "    if arr[left] == arr[right]:\n",
        "      left = left+1\n",
        "      continue\n",
        "    if arr[left] > arr[right]:\n",
        "      more = more-1\n",
        "      swap(arr, left, more)\n",
        "      continue\n",
        "  swap(arr, right, more)\n",
        "  return [less+1, more]"
      ],
      "metadata": {
        "id": "2E3Q2gXa-48u"
      },
      "execution_count": null,
      "outputs": []
    },
    {
      "cell_type": "code",
      "source": [
        "def quickSortr(arr, left, right):\n",
        "  if left < right:\n",
        "    seed = rd.randint(left+1, right)\n",
        "    swap(arr, seed, right)\n",
        "    eq = patition(arr, left, right)\n",
        "    quickSortr(arr, left, eq[0]-1)\n",
        "    quickSortr(arr, eq[1]+1, right)"
      ],
      "metadata": {
        "id": "9mCJl9EJ9yGU"
      },
      "execution_count": null,
      "outputs": []
    },
    {
      "cell_type": "code",
      "source": [
        "a = [1,3,4,1,2,5,8,5,9]\n",
        "quickSortr(a, 0, len(a)-1)"
      ],
      "metadata": {
        "id": "8GSNWdY8H9_I"
      },
      "execution_count": null,
      "outputs": []
    },
    {
      "cell_type": "code",
      "source": [
        "print(a)"
      ],
      "metadata": {
        "colab": {
          "base_uri": "https://localhost:8080/"
        },
        "id": "Wy-FJjrTIl1w",
        "outputId": "18927a9a-52c8-4337-dc37-9656729132ce"
      },
      "execution_count": null,
      "outputs": [
        {
          "output_type": "stream",
          "name": "stdout",
          "text": [
            "[1, 1, 2, 3, 4, 5, 5, 8, 9]\n"
          ]
        }
      ]
    },
    {
      "cell_type": "code",
      "source": [
        "class TreeNode():\n",
        "  # 初始化二叉树\n",
        "  def __init__(self, data, left = None, right= None):\n",
        "    self.left = left\n",
        "    self.right = right\n",
        "    self.data = data\n",
        "\n",
        "# 先序遍历递归\n",
        "def frontSelf(node):\n",
        "  if node is None:\n",
        "    return\n",
        "  print(node.data)\n",
        "  frontSelf(node.left)\n",
        "  frontSelf(node.right)\n",
        "\n",
        "  # 先序遍历非递归\n",
        "def frontWhile(node):\n",
        "  if node is not None:\n",
        "    stack = []\n",
        "    stack.append(node)\n",
        "    while len(stack) != 0:\n",
        "      node = stack.pop()\n",
        "      print(node.data)\n",
        "      if node.right is not None:\n",
        "        stack.append(node.right)\n",
        "      if node.left is not None:\n",
        "        stack.append(node.left)\n",
        "\n",
        "# 中序遍历递归\n",
        "def middleSelf(node):\n",
        "  if node is None:\n",
        "    return\n",
        "  middleSelf(node.left)\n",
        "  print(node.data)\n",
        "  middleSelf(node.right)\n",
        "\n",
        "# 中序遍历非递归\n",
        "def middleWhile(node):\n",
        "  if node is not None:\n",
        "    stack = []\n",
        "    while len(stack) != 0 or node is not None:\n",
        "      if node is not None:\n",
        "        stack.append(node)\n",
        "        node = node.left\n",
        "      else:\n",
        "        node = stack.pop()\n",
        "        print(node.data)\n",
        "        node = node.right\n",
        "\n",
        "# 后序遍历递归\n",
        "def endSelf(node):\n",
        "  if node is None:\n",
        "    return\n",
        "  endSelf(node.left)\n",
        "  endSelf(node.right)\n",
        "  print(node.data)\n",
        "\n",
        "# 后序遍历非递归方法一\n",
        "def endWhile1(node):\n",
        "  return\n",
        "\n",
        "# 后续递归方法二 先压左再压右，然后弹入栈\n",
        "def endWhile2(node):\n",
        "  if node is not None:\n",
        "    stack1 = []\n",
        "    stack2 = []\n",
        "    stack1.append(node)\n",
        "    while len(stack1) != 0 and node is not None:\n",
        "      node = stack1.pop()\n",
        "      stack2.append(node)\n",
        "      if node.left is not None:\n",
        "        stack1.append(node.left)\n",
        "      if node.right is not None:\n",
        "        stack2.append(node.right)\n",
        "    while len(stack2) != 0:\n",
        "      node = stack2.pop()\n",
        "      print(node.data)\n",
        "    "
      ],
      "metadata": {
        "id": "5tsckR-w-0z_"
      },
      "execution_count": null,
      "outputs": []
    },
    {
      "cell_type": "code",
      "source": [
        "node1 = TreeNode(1)\n",
        "node2 = TreeNode(2)\n",
        "node3 = TreeNode(3)\n",
        "node4 = TreeNode(4)\n",
        "node5 = TreeNode(5)\n",
        "node6 = TreeNode(6)\n",
        "node7 = TreeNode(7)\n",
        "node1.left = node2\n",
        "node1.right = node3\n",
        "node2.left = node4\n",
        "node2.right = node5\n",
        "node3.left = node6\n",
        "node3.right = node7"
      ],
      "metadata": {
        "id": "2romapoAsIvM"
      },
      "execution_count": null,
      "outputs": []
    },
    {
      "cell_type": "code",
      "source": [
        "# 按照宽度遍历二叉树\n",
        "def withWhile(node):\n",
        "  if node is None:\n",
        "    return\n",
        "  arr = []\n",
        "  arr.append(node)\n",
        "  while len(arr) != 0:\n",
        "    # 出队列\n",
        "    node = arr.pop(0)\n",
        "    print(node.data)\n",
        "    if node.left is not None:\n",
        "      arr.append(node.left)\n",
        "    if node.right is not None:\n",
        "      arr.append(node.right)\n",
        "\n",
        "withWhile(node1)"
      ],
      "metadata": {
        "colab": {
          "base_uri": "https://localhost:8080/"
        },
        "id": "SnYs9ldgUJWM",
        "outputId": "30831a8f-ac03-40dc-e74e-0677ccc59a62"
      },
      "execution_count": null,
      "outputs": [
        {
          "output_type": "stream",
          "name": "stdout",
          "text": [
            "1\n",
            "2\n",
            "3\n",
            "4\n",
            "5\n",
            "6\n",
            "7\n"
          ]
        }
      ]
    },
    {
      "cell_type": "code",
      "source": [
        "node1 = TreeNode(1)\n",
        "node2 = TreeNode(2)\n",
        "node3 = TreeNode(3)\n",
        "node4 = TreeNode(4)\n",
        "node5 = TreeNode(5)\n",
        "node6 = TreeNode(6)\n",
        "node7 = TreeNode(7)\n",
        "node1.left = node2\n",
        "node1.right = node3\n",
        "node2.left = node4\n",
        "# node2.right = node5\n",
        "# node3.left = node6\n",
        "# node3.right = node7"
      ],
      "metadata": {
        "id": "TvKgGlh7cc8G"
      },
      "execution_count": null,
      "outputs": []
    },
    {
      "cell_type": "code",
      "source": [
        "# 找到最大宽度\n",
        "def withMaxWhile(node):\n",
        "  if node is None:\n",
        "    return\n",
        "  arr = []\n",
        "  arr.append(node)\n",
        "  dic = {node: 1}\n",
        "  max = 0 # 最大的层数\n",
        "  curLevel = 1 # 目前来到的层数\n",
        "  curNodeNum = 0 # 当前层数的结点个数\n",
        "  while len(arr) != 0:\n",
        "    # 出队列\n",
        "    node = arr.pop(0)\n",
        "    nodeLevel = dic[node]\n",
        "    if nodeLevel == curLevel:\n",
        "      curNodeNum = curNodeNum+1\n",
        "    else:\n",
        "      curLevel = curLevel+1\n",
        "      print(curLevel-1, curNodeNum)\n",
        "      # max = max(max, curNodeNum)\n",
        "      if max >= curNodeNum:\n",
        "        max = max\n",
        "      else:\n",
        "        max = curNodeNum\n",
        "      curNodeNum = 1\n",
        "    if node.left is not None:\n",
        "      arr.append(node.left)\n",
        "      dic[node.left] = curLevel + 1\n",
        "    if node.right is not None:\n",
        "      arr.append(node.right)\n",
        "      dic[node.right] = curLevel + 1\n",
        "  # 比较最后一层的大小\n",
        "  if max >= curNodeNum:\n",
        "    max = max\n",
        "  else:\n",
        "    max = curNodeNum\n",
        "  print(max)\n",
        "\n",
        "withMaxWhile(node1)"
      ],
      "metadata": {
        "colab": {
          "base_uri": "https://localhost:8080/"
        },
        "id": "LsnexC5nWhaY",
        "outputId": "2f9a58ec-7ffe-43a2-ed74-6077330a820b"
      },
      "execution_count": null,
      "outputs": [
        {
          "output_type": "stream",
          "name": "stdout",
          "text": [
            "1 1\n",
            "2 2\n",
            "2\n"
          ]
        }
      ]
    },
    {
      "cell_type": "code",
      "source": [
        "a = 3\n",
        "b = 2\n",
        "max(a, b)"
      ],
      "metadata": {
        "colab": {
          "base_uri": "https://localhost:8080/",
          "height": 204
        },
        "id": "4PpyvYmYazKr",
        "outputId": "a08c5737-17f5-43ce-ab5c-db0bfcb30e19"
      },
      "execution_count": null,
      "outputs": [
        {
          "output_type": "error",
          "ename": "TypeError",
          "evalue": "ignored",
          "traceback": [
            "\u001b[0;31m---------------------------------------------------------------------------\u001b[0m",
            "\u001b[0;31mTypeError\u001b[0m                                 Traceback (most recent call last)",
            "\u001b[0;32m<ipython-input-39-d4a34aa9fc43>\u001b[0m in \u001b[0;36m<module>\u001b[0;34m()\u001b[0m\n\u001b[1;32m      1\u001b[0m \u001b[0ma\u001b[0m \u001b[0;34m=\u001b[0m \u001b[0;36m3\u001b[0m\u001b[0;34m\u001b[0m\u001b[0;34m\u001b[0m\u001b[0m\n\u001b[1;32m      2\u001b[0m \u001b[0mb\u001b[0m \u001b[0;34m=\u001b[0m \u001b[0;36m2\u001b[0m\u001b[0;34m\u001b[0m\u001b[0;34m\u001b[0m\u001b[0m\n\u001b[0;32m----> 3\u001b[0;31m \u001b[0mmax\u001b[0m\u001b[0;34m(\u001b[0m\u001b[0ma\u001b[0m\u001b[0;34m,\u001b[0m \u001b[0mb\u001b[0m\u001b[0;34m)\u001b[0m\u001b[0;34m\u001b[0m\u001b[0;34m\u001b[0m\u001b[0m\n\u001b[0m",
            "\u001b[0;31mTypeError\u001b[0m: 'int' object is not callable"
          ]
        }
      ]
    },
    {
      "cell_type": "code",
      "source": [
        "# 判断搜索二叉树（二叉树套路练习）\n",
        "class retType(object):\n",
        "  def __init__(self, min, max, isa):\n",
        "    self.min = min\n",
        "    self.max = max\n",
        "    self.isSear = isa\n",
        "\n",
        "def maxa(a, b):\n",
        "  if a > b:\n",
        "    return a\n",
        "  else:\n",
        "    return b\n",
        "\n",
        "def mina(a, b):\n",
        "  if a < b:\n",
        "    return a\n",
        "  else:\n",
        "    return b\n",
        "\n",
        "def searBiTree(node):\n",
        "  if node is None:\n",
        "    return None\n",
        "  lRetSet = searBiTree(node.left)\n",
        "  rRetSet = searBiTree(node.right)\n",
        "  min = node.data\n",
        "  max = node.data\n",
        "  isSear = True\n",
        "  if lRetSet is not None:\n",
        "    min = mina(node.data, lRetSet.min)\n",
        "    max = maxa(node.data, lRetSet.max)\n",
        "  if rRetSet is not None:\n",
        "    min = mina(node.data, rRetSet.min)\n",
        "    max = maxa(node.data, rRetSet.max)\n",
        "  if lRetSet is not None and (lRetSet.max >= node.data or lRetSet.isSear is False):\n",
        "    isSear = False\n",
        "  if rRetSet is not None and (rRetSet.min <= node.data or rRetSet.isSear is False):\n",
        "    isSear = False\n",
        "  ret = retType(min, max, isSear)\n",
        "  return ret\n"
      ],
      "metadata": {
        "id": "oCe167p2gLdl"
      },
      "execution_count": null,
      "outputs": []
    },
    {
      "cell_type": "code",
      "source": [
        "flag = True\n",
        "PreVal = float(\"-inf\")\n"
      ],
      "metadata": {
        "id": "rRPpoBElvuKU"
      },
      "execution_count": null,
      "outputs": []
    },
    {
      "cell_type": "code",
      "source": [
        "def isSearTree2(node):\n",
        "  if node is None:\n",
        "    return\n",
        "  isSearTree2(node.left)\n",
        "  global PreVal\n",
        "  global flag\n",
        "  print(PreVal, node.data)\n",
        "  if PreVal > node.data:\n",
        "    flag = False\n",
        "  PreVal = node.data\n",
        "  isSearTree2(node.right)"
      ],
      "metadata": {
        "id": "YidwEyS6tqvu"
      },
      "execution_count": null,
      "outputs": []
    },
    {
      "cell_type": "code",
      "source": [
        "node1 = TreeNode(1)\n",
        "node2 = TreeNode(2)\n",
        "node3 = TreeNode(3)\n",
        "node4 = TreeNode(4)\n",
        "node5 = TreeNode(5)\n",
        "node6 = TreeNode(6)\n",
        "node7 = TreeNode(7)\n",
        "node1.left = node2\n",
        "node1.right = node3\n",
        "node2.left = node4\n",
        "#node2.right = node5\n",
        "node3.left = node6\n",
        "node3.right = node7"
      ],
      "metadata": {
        "id": "Vt_9jNrBjxFR"
      },
      "execution_count": null,
      "outputs": []
    },
    {
      "cell_type": "code",
      "source": [
        "isSearTree2(node1)"
      ],
      "metadata": {
        "colab": {
          "base_uri": "https://localhost:8080/"
        },
        "id": "0kPJPkIlvMiW",
        "outputId": "dd93b04e-e3b3-44bc-cef3-815d4763a99a"
      },
      "execution_count": null,
      "outputs": [
        {
          "output_type": "stream",
          "name": "stdout",
          "text": [
            "-inf 0\n",
            "0 1\n",
            "1 10\n",
            "10 3\n",
            "3 4\n"
          ]
        }
      ]
    },
    {
      "cell_type": "code",
      "source": [
        "print(flag)"
      ],
      "metadata": {
        "colab": {
          "base_uri": "https://localhost:8080/"
        },
        "id": "zfQDzdEDw2uW",
        "outputId": "e416cb0e-4b8d-46df-ce6e-f3b01cd674eb"
      },
      "execution_count": null,
      "outputs": [
        {
          "output_type": "stream",
          "name": "stdout",
          "text": [
            "False\n"
          ]
        }
      ]
    },
    {
      "cell_type": "code",
      "source": [
        "# 判断一个树是否为完全二叉树\n",
        "def isCBT(node):\n",
        "  if node is None:\n",
        "    return True\n",
        "  arr = [] # 建立队列\n",
        "  flag = True # 判断一个结点的子结点是否双全，如果不是则改为false，后续结点必须为叶节点。\n",
        "  arr.append(node)\n",
        "  while len(arr) != 0:\n",
        "    node = arr.pop(0)\n",
        "    l = node.left\n",
        "    r = node.right\n",
        "    if (r is not None and l is None) or (flag == False and (l is not None or r is not None)):\n",
        "      return False\n",
        "    if node.left is not None:\n",
        "      arr.append(node.left)\n",
        "    if node.right is not None:\n",
        "      arr.append(node.right)\n",
        "    if node.left is not None and node.right is None:\n",
        "      flag = False\n",
        "  return True"
      ],
      "metadata": {
        "id": "rprQv0Vl0LVG"
      },
      "execution_count": null,
      "outputs": []
    },
    {
      "cell_type": "code",
      "source": [
        "print(isCBT(node1))"
      ],
      "metadata": {
        "colab": {
          "base_uri": "https://localhost:8080/"
        },
        "id": "K1_yjWdZ3faA",
        "outputId": "64de0c20-4b56-4d40-bad8-66c36603e063"
      },
      "execution_count": null,
      "outputs": [
        {
          "output_type": "stream",
          "name": "stdout",
          "text": [
            "False\n"
          ]
        }
      ]
    },
    {
      "cell_type": "code",
      "source": [
        "flag = False\n",
        "print(flag)\n",
        "flag = True\n",
        "print(flag)"
      ],
      "metadata": {
        "colab": {
          "base_uri": "https://localhost:8080/"
        },
        "id": "ljxbw3Df6m4H",
        "outputId": "50e1f380-5078-4b81-a972-906a43aeb579"
      },
      "execution_count": null,
      "outputs": [
        {
          "output_type": "stream",
          "name": "stdout",
          "text": [
            "False\n",
            "True\n"
          ]
        }
      ]
    },
    {
      "cell_type": "code",
      "source": [
        "# 判断两个结点的公共祖先\n",
        "def NCA(head, node1, node2):\n",
        "  dic = {head: head}\n",
        "  process(head, dic)\n",
        "  list = [] # 存放node1结点的所有父结点\n",
        "  cur = node1\n",
        "  while cur != head:\n",
        "    cur = dic[cur]\n",
        "    list.append(cur)\n",
        "  for item in list:\n",
        "    print(item.data)\n",
        "  cur2 = node2\n",
        "  while cur2 != head:\n",
        "    cur2 = dic[cur2]\n",
        "    if list.count(cur2) != 0:\n",
        "      return cur2\n",
        "  return False\n",
        "  \n",
        "\n",
        "# 将所有结点的父亲结点放入dic\n",
        "def process(head, dic):\n",
        "  if head is None:\n",
        "    return\n",
        "  dic[head.left] = head\n",
        "  dic[head.right] = head\n",
        "  process(head.left, dic)\n",
        "  process(head.right, dic)\n",
        "\n"
      ],
      "metadata": {
        "id": "DwBodPPfX3ej"
      },
      "execution_count": null,
      "outputs": []
    },
    {
      "cell_type": "code",
      "source": [
        "node1 = TreeNode(1)\n",
        "node2 = TreeNode(2)\n",
        "node3 = TreeNode(3)\n",
        "node4 = TreeNode(4)\n",
        "node5 = TreeNode(5)\n",
        "node6 = TreeNode(6)\n",
        "node7 = TreeNode(7)\n",
        "node8 = TreeNode(8)\n",
        "node1.left = node2\n",
        "node1.right = node3\n",
        "node2.left = node4\n",
        "node2.right = node5\n",
        "node3.left = node6\n",
        "node3.right = node7\n",
        "node4.left = node8"
      ],
      "metadata": {
        "id": "GARSl56ocgua"
      },
      "execution_count": null,
      "outputs": []
    },
    {
      "cell_type": "code",
      "source": [
        "a = NCA(node1, node2, node3)"
      ],
      "metadata": {
        "colab": {
          "base_uri": "https://localhost:8080/"
        },
        "id": "iUqbaWiadSnn",
        "outputId": "b8ef6e3e-1bdd-48cd-cfbb-cb33f8cb8e47"
      },
      "execution_count": null,
      "outputs": [
        {
          "output_type": "stream",
          "name": "stdout",
          "text": [
            "1\n"
          ]
        }
      ]
    },
    {
      "cell_type": "code",
      "source": [
        "print(a.data)"
      ],
      "metadata": {
        "colab": {
          "base_uri": "https://localhost:8080/"
        },
        "id": "wEg0Tbw0ewQm",
        "outputId": "84f2114b-5eab-49d3-a95b-76948bfbfb46"
      },
      "execution_count": null,
      "outputs": [
        {
          "output_type": "stream",
          "name": "stdout",
          "text": [
            "1\n"
          ]
        }
      ]
    },
    {
      "cell_type": "code",
      "source": [
        "def selfNCA(head, node1, node2):\n",
        "  if head == None or head == node1 or head == node2:\n",
        "    return head\n",
        "  left = selfNCA(head.left, node1, node2)\n",
        "  right = selfNCA(head.right, node1, node2)\n",
        "  if left is not None and right is not None:\n",
        "    return head\n",
        "  if left is not None:\n",
        "    return left\n",
        "  else:\n",
        "    return right"
      ],
      "metadata": {
        "id": "PF-Cb9SWf6hq"
      },
      "execution_count": null,
      "outputs": []
    },
    {
      "cell_type": "code",
      "source": [
        "a = selfNCA(node1, node8, node5)\n",
        "print(a.data)"
      ],
      "metadata": {
        "colab": {
          "base_uri": "https://localhost:8080/"
        },
        "id": "AFgmCCSuhRi7",
        "outputId": "870739d3-b174-47bb-82d7-d6bf7a416dd7"
      },
      "execution_count": null,
      "outputs": [
        {
          "output_type": "stream",
          "name": "stdout",
          "text": [
            "2\n"
          ]
        }
      ]
    },
    {
      "cell_type": "code",
      "source": [
        "class suNode(object):\n",
        "  def __init__(self, data, left = None, right = None, parent = None):\n",
        "    self.data = data\n",
        "    self.left = left\n",
        "    self.right = right\n",
        "    self.parent = parent"
      ],
      "metadata": {
        "id": "Zy4HbVPtlLsP"
      },
      "execution_count": null,
      "outputs": []
    },
    {
      "cell_type": "code",
      "source": [
        "class gNode(object):\n",
        "  def __init__(self, data):\n",
        "    self.data = data\n",
        "  inE = 0 # 直接进入结点的结点数\n",
        "  outE = 0 # 直接出节点的结点数\n",
        "  next = [] # 直接发散出的边\n",
        "  edges = [] # 直接发散出去边的具体参数\n",
        "\n",
        "class edge(object):\n",
        "  def __init__(self, weight, nfrom, to):\n",
        "    self.weight = weight\n",
        "    self.nfrom = nfrom\n",
        "    self.to = to\n",
        "\n",
        "class graph(object):\n",
        "  node = {} # 存放结点的信息 编号:node\n",
        "  list = [] # 存放边的信息"
      ],
      "metadata": {
        "id": "FWXhWvjjuFBJ"
      },
      "execution_count": 97,
      "outputs": []
    },
    {
      "cell_type": "code",
      "source": [
        "node1 = gNode(1)\n",
        "node2 = gNode(2)\n",
        "node3 = gNode(3)\n",
        "node4 = gNode(4)\n",
        "node5 = gNode(5)\n",
        "\n",
        "a = [edge(3, node1, node3),\n",
        "edge(4, node1, node4),\n",
        "edge(2, node2, node1),\n",
        "edge(5, node2, node5),\n",
        "edge(8, node3, node4),\n",
        "edge(6, node4, node5),\n",
        "edge(1, node4, node2)]\n",
        "\n",
        "graph1 = graph()\n",
        "graph1.node[1]= node1\n",
        "graph1.node[2]= node2\n",
        "graph1.node[3]= node3\n",
        "graph1.node[4]= node4\n",
        "graph1.node[5]= node5\n",
        "\n",
        "\n",
        "for items in a:\n",
        "  graph1.list.append(items)"
      ],
      "metadata": {
        "id": "srWgGgMdQt2d"
      },
      "execution_count": 112,
      "outputs": []
    },
    {
      "cell_type": "code",
      "source": [
        "for item in graph1.list:\n",
        "  item.nfrom.outE = item.nfrom.outE+1\n",
        "  item.nfrom.next.append(item.to)\n",
        "  item.nfrom.edges.append(item)\n",
        "  item.to.inE = item.to.inE+1"
      ],
      "metadata": {
        "id": "-PGNGPssTi2D",
        "colab": {
          "base_uri": "https://localhost:8080/"
        },
        "outputId": "2fa5fd70-7e7e-46ac-a870-65b571569d23"
      },
      "execution_count": 102,
      "outputs": [
        {
          "output_type": "stream",
          "name": "stdout",
          "text": [
            "[<__main__.gNode object at 0x7f154381df90>]\n",
            "[<__main__.gNode object at 0x7f154381df90>, <__main__.gNode object at 0x7f154381d5d0>]\n",
            "[<__main__.gNode object at 0x7f154381df90>, <__main__.gNode object at 0x7f154381d5d0>, <__main__.gNode object at 0x7f154381d750>]\n",
            "[<__main__.gNode object at 0x7f154381df90>, <__main__.gNode object at 0x7f154381d5d0>, <__main__.gNode object at 0x7f154381d750>, <__main__.gNode object at 0x7f154381d550>]\n",
            "[<__main__.gNode object at 0x7f154381df90>, <__main__.gNode object at 0x7f154381d5d0>, <__main__.gNode object at 0x7f154381d750>, <__main__.gNode object at 0x7f154381d550>, <__main__.gNode object at 0x7f154381d5d0>]\n",
            "[<__main__.gNode object at 0x7f154381df90>, <__main__.gNode object at 0x7f154381d5d0>, <__main__.gNode object at 0x7f154381d750>, <__main__.gNode object at 0x7f154381d550>, <__main__.gNode object at 0x7f154381d5d0>, <__main__.gNode object at 0x7f154381d550>]\n",
            "[<__main__.gNode object at 0x7f154381df90>, <__main__.gNode object at 0x7f154381d5d0>, <__main__.gNode object at 0x7f154381d750>, <__main__.gNode object at 0x7f154381d550>, <__main__.gNode object at 0x7f154381d5d0>, <__main__.gNode object at 0x7f154381d550>, <__main__.gNode object at 0x7f154381d350>]\n"
          ]
        }
      ]
    },
    {
      "cell_type": "code",
      "source": [
        "def widthErgo(graph):\n",
        "  arr = [] # 队列\n",
        "  checkList = [] # 检查一个结点是否进入过队列\n",
        "  arr.append(graph.node[1])\n",
        "  checkList.append(graph.node[1])\n",
        "  while len(arr) != 0:\n",
        "    node = arr.pop(0)\n",
        "    print(node.data)\n",
        "    for item in node.next:\n",
        "      if checkList.count(item) == 0:\n",
        "        arr.append(item)\n",
        "        checkList.append(item)"
      ],
      "metadata": {
        "id": "XzFtyRTcYHHl"
      },
      "execution_count": null,
      "outputs": []
    },
    {
      "cell_type": "code",
      "source": [
        "for item in graph1.list:\n",
        "  print(item.nfrom.data, item.to.data)"
      ],
      "metadata": {
        "colab": {
          "base_uri": "https://localhost:8080/"
        },
        "id": "lTjkvC10cJ2i",
        "outputId": "1c22f58a-e6b6-4827-dfbc-c7301ab0c527"
      },
      "execution_count": 111,
      "outputs": [
        {
          "output_type": "stream",
          "name": "stdout",
          "text": [
            "1 3\n",
            "1 4\n",
            "2 1\n",
            "2 5\n",
            "3 4\n",
            "4 5\n",
            "4 2\n",
            "1 3\n",
            "1 4\n",
            "2 1\n",
            "2 5\n",
            "3 4\n",
            "4 5\n",
            "4 2\n",
            "1 3\n",
            "1 4\n",
            "2 1\n",
            "2 5\n",
            "3 4\n",
            "4 5\n",
            "4 2\n"
          ]
        }
      ]
    },
    {
      "cell_type": "code",
      "source": [
        "print(len(graph1.list))"
      ],
      "metadata": {
        "colab": {
          "base_uri": "https://localhost:8080/"
        },
        "id": "WcS-0CDzcmoj",
        "outputId": "57b16c95-057d-4060-ba45-b27478b3322d"
      },
      "execution_count": 106,
      "outputs": [
        {
          "output_type": "stream",
          "name": "stdout",
          "text": [
            "14\n"
          ]
        }
      ]
    }
  ],
  "metadata": {
    "colab": {
      "collapsed_sections": [],
      "name": "Untitled3.ipynb",
      "provenance": []
    },
    "kernelspec": {
      "display_name": "Python 3",
      "name": "python3"
    },
    "language_info": {
      "name": "python"
    }
  },
  "nbformat": 4,
  "nbformat_minor": 0
}